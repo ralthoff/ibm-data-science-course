{
 "cells": [
  {
   "cell_type": "markdown",
   "id": "f2f7e9b2-3e85-40c6-8db7-1cdc26d8008a",
   "metadata": {},
   "source": [
    "# Data Science Tools and Ecosystem"
   ]
  },
  {
   "cell_type": "markdown",
   "id": "b67c8bf5-d9f3-4216-809c-2f1999a2c696",
   "metadata": {},
   "source": [
    "**Objectives:**\n",
    "1. List popular languages that Data Scientists use\n",
    "2. List commonly used libraries for Data Scientists\n",
    "3. List Data Science Tools in a table\n",
    "4. Convert 200 minutes to hours"
   ]
  },
  {
   "cell_type": "markdown",
   "id": "519fa5dc-f6f2-486a-a6df-3986e359bed5",
   "metadata": {},
   "source": [
    "In this notebook, Data Science Tools and Ecosystem are summarized."
   ]
  },
  {
   "cell_type": "markdown",
   "id": "6446e355-aa6f-4c49-864a-86a87d7f4b07",
   "metadata": {},
   "source": [
    "Some of the popular languages that Data Scientists use are:\n",
    "1. Python\n",
    "2. R\n",
    "3. SQL"
   ]
  },
  {
   "cell_type": "markdown",
   "id": "b16415c7-8255-42c3-a43d-dd83e670326a",
   "metadata": {},
   "source": [
    "Some of the commonly used libraries used by Data Scientists include:\n",
    "1. Pandas\n",
    "2. NumPy\n",
    "3. Matplotlib"
   ]
  },
  {
   "cell_type": "markdown",
   "id": "ec0bbff1-ea1d-4c74-bb7a-9c69b7e2fcdd",
   "metadata": {},
   "source": [
    "| Data Science Tools |\n",
    "| ----------- |\n",
    "| JupyterLab |\n",
    "| Visual Studio |\n",
    "| Google Colab |"
   ]
  },
  {
   "cell_type": "markdown",
   "id": "988d456f-9206-4f11-9b00-36428087149d",
   "metadata": {},
   "source": [
    "### Below are a few examples of evaluating arithmetic expressions in Python."
   ]
  },
  {
   "cell_type": "markdown",
   "id": "5caf4e5b-cb00-4d91-a4ee-b0aa03b94708",
   "metadata": {},
   "source": [
    "/ This is a simple arithmetic expression to multiply then add numbers. /"
   ]
  },
  {
   "cell_type": "code",
   "execution_count": 1,
   "id": "19fef1df-83ca-4f59-ac71-6b4ba86cb992",
   "metadata": {},
   "outputs": [
    {
     "data": {
      "text/plain": [
       "17"
      ]
     },
     "execution_count": 1,
     "metadata": {},
     "output_type": "execute_result"
    }
   ],
   "source": [
    "(3*4)+5"
   ]
  },
  {
   "cell_type": "markdown",
   "id": "24aab301-c451-44f9-a440-0fa65532e2ef",
   "metadata": {},
   "source": [
    "*This will convert 200 minutes to hours by dividing by 60.*"
   ]
  },
  {
   "cell_type": "code",
   "execution_count": 2,
   "id": "ec7940f8-e5d0-493d-9c54-17ffd51b00c5",
   "metadata": {},
   "outputs": [
    {
     "data": {
      "text/plain": [
       "3.3333333333333335"
      ]
     },
     "execution_count": 2,
     "metadata": {},
     "output_type": "execute_result"
    }
   ],
   "source": [
    "200/60"
   ]
  },
  {
   "cell_type": "markdown",
   "id": "2670f436-d43d-483d-b49d-9fa7b6accd54",
   "metadata": {},
   "source": [
    "## Author\n",
    "Rick Althoff"
   ]
  },
  {
   "cell_type": "code",
   "execution_count": null,
   "id": "7fd7b0a2-d422-4b53-889d-1debccfbd0c6",
   "metadata": {},
   "outputs": [],
   "source": []
  }
 ],
 "metadata": {
  "kernelspec": {
   "display_name": "Python 3 (ipykernel)",
   "language": "python",
   "name": "python3"
  },
  "language_info": {
   "codemirror_mode": {
    "name": "ipython",
    "version": 3
   },
   "file_extension": ".py",
   "mimetype": "text/x-python",
   "name": "python",
   "nbconvert_exporter": "python",
   "pygments_lexer": "ipython3",
   "version": "3.12.8"
  }
 },
 "nbformat": 4,
 "nbformat_minor": 5
}
